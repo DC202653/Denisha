{
  "cells": [
    {
      "cell_type": "markdown",
      "metadata": {
        "id": "view-in-github",
        "colab_type": "text"
      },
      "source": [
        "<a href=\"https://colab.research.google.com/github/DC202653/Denisha/blob/main/Another_copy_of_Lab05.ipynb\" target=\"_parent\"><img src=\"https://colab.research.google.com/assets/colab-badge.svg\" alt=\"Open In Colab\"/></a>"
      ]
    },
    {
      "cell_type": "markdown",
      "metadata": {
        "id": "hyxAFIibcSWR"
      },
      "source": [
        "<a href=\"https://colab.research.google.com/github/LMU-CMSI-1010/lab-notebooks-original/blob/main/Lab05.ipynb\" target=\"_parent\"><img src=\"https://colab.research.google.com/assets/colab-badge.svg\" alt=\"Open In Colab\"/></a>"
      ]
    },
    {
      "cell_type": "markdown",
      "metadata": {
        "id": "9aXfrLXg9seM"
      },
      "source": [
        "# Lab 05 Walk with Purpose\n",
        "In this lab you will practice using for loops and while loops to simulate taking a walk. However, this time you will have a goal to start in the center of the room and reach either wall. The number and direction of steps will be determined by random integers—a common approach for programs that seek to simulate some behaviors or systems.\n",
        "\n",
        "## Flipping a coin and getting steps\n",
        "\n",
        "As for Lab 04, we provide you with the same code for simulating flipping a coin in the following cell. We also provide you with code to get a random number of steps to take. **Please remember to run this cell, so that you may call the function to flip a coin and the function to get a random number of steps.**\n",
        "\n"
      ]
    },
    {
      "cell_type": "code",
      "execution_count": 12,
      "metadata": {
        "id": "Rt0kFDWS9RJU"
      },
      "outputs": [],
      "source": [
        "# The random module is what let's us make calls to get random integers\n",
        "import random\n",
        "\n",
        "# This function simulates flipping a coin. It returns the string H for heads\n",
        "# and T for tails\n",
        "def flip_coin():\n",
        "    coin = ''\n",
        "    flip = random.randint(1, 10)\n",
        "    if flip <= 5:\n",
        "      coin = 'H'\n",
        "    else:\n",
        "      coin = 'T'\n",
        "    return coin\n",
        "\n",
        "# This function simulates taking a number of steps. It will return an integer\n",
        "# number of steps to take\n",
        "def get_steps():\n",
        "    steps = random.randint(1, 50)\n",
        "    return steps"
      ]
    },
    {
      "cell_type": "markdown",
      "metadata": {
        "id": "y2c-tRWA91fr"
      },
      "source": [
        "## Walking from the center of a room\n",
        "Now imagine that you or a robot if you prefer are placed in the center of the room. The following cell gives the variables to keep track of your position in that room. The room has a width of 100 ft and you (or your robot) can walk horizontally across the room to the left or the right. The leftmost wall has position 0 and the rightmost wall has position 100. **Please run this cell so you can use these variables.** This cell is the same as in Lab 04.\n"
      ]
    },
    {
      "cell_type": "code",
      "execution_count": 13,
      "metadata": {
        "id": "NMcvm3E4-sl_"
      },
      "outputs": [],
      "source": [
        "# Use this variable to keep track of your position\n",
        "position = 50\n",
        "left_wall = 0\n",
        "right_wall = 100"
      ]
    },
    {
      "cell_type": "markdown",
      "metadata": {
        "id": "zXC7orYI_T3E"
      },
      "source": [
        "## A few chances to the reach a wall\n",
        "In the following cell, **use a for loop to give yourself (or your robot) 5 chances to reach the wall.** Each chance will involve flipping a coin and taking a random number of steps in the correct direction based on the coin flip. If you reach the wall after your 5 chances, you win!"
      ]
    },
    {
      "cell_type": "code",
      "execution_count": 14,
      "metadata": {
        "id": "fpq9XjRC_TJG",
        "colab": {
          "base_uri": "https://localhost:8080/"
        },
        "outputId": "5a872cc2-98de-44e0-a794-bc7eb4317839"
      },
      "outputs": [
        {
          "output_type": "stream",
          "name": "stdout",
          "text": [
            "Direction: H, Steps: 42, Current Position: 50\n",
            "New Position: 92\n",
            "You are at position 92 in the room.\n"
          ]
        }
      ],
      "source": [
        "# TODO: Create a for loop to give yourself 5 chance to walk towards a wall\n",
        "    # Flip a coin\n",
        "chances = 5\n",
        "for _ in range(chances):\n",
        "\n",
        "\n",
        "    # Get number of steps\n",
        "   steps = get_steps()\n",
        "\n",
        "direction = flip_coin ()\n",
        "\n",
        "    # You can print the variable for coin and steps to help you debug\n",
        "    # print(coin, steps)\n",
        "print ( f\"Direction: {direction}, Steps: {steps}, Current Position: {position}\")\n",
        "\n",
        "if direction == 'H':\n",
        "     position += steps\n",
        "else:\n",
        "     position -= steps\n",
        "\n",
        "print (f\"New Position: {position}\")\n",
        "\n",
        "    # If coin flip is heads:\n",
        "        # Walk right, i.e add steps to your position\n",
        "    # Otherwise:\n",
        "        # Walk left, i.e. remove steps from your position\n",
        "\n",
        "\n",
        "\n",
        "# If you've reached either wall: you win\n",
        "if position <= left_wall or position >= right_wall:\n",
        "    print('You win!')\n",
        "else:\n",
        "    print('You are at position', position, 'in the room.')"
      ]
    },
    {
      "cell_type": "markdown",
      "metadata": {
        "id": "FBvQb4tOArmq"
      },
      "source": [
        "## Keep trying until you reach a wall\n",
        "\n",
        "In the following cell, **use a `while` loop to keep on taking steps towards a wall until you reach the left wall or right wall.** To help you reach a wall more quickly, you can double the number of steps. First get a random number of steps to take. Then you will flip your first coin to choose a direction. Then you will flip a second coin. If it is the same toss as the first coin (such H-H or T-T), you can double your number of steps in the given direction. **You also need to keep track of how many chances (iterations) it takes you to reach a wall.**"
      ]
    },
    {
      "cell_type": "code",
      "execution_count": 70,
      "metadata": {
        "id": "gLFgAtynBorm",
        "colab": {
          "base_uri": "https://localhost:8080/",
          "height": 241
        },
        "outputId": "cf9d113e-293c-4463-dfeb-e91fc6016720"
      },
      "outputs": [
        {
          "output_type": "stream",
          "name": "stdout",
          "text": [
            "Steps: 10, Coin1: H, Coin2: H, Position before move: 50\n",
            "You reached the wall after 1 chances\n",
            "Position after move: 70\n",
            "You reached the wall after 1 chances.\n"
          ]
        },
        {
          "output_type": "error",
          "ename": "AssertionError",
          "evalue": "",
          "traceback": [
            "\u001b[0;31m---------------------------------------------------------------------------\u001b[0m",
            "\u001b[0;31mAssertionError\u001b[0m                            Traceback (most recent call last)",
            "\u001b[0;32m<ipython-input-70-147e31f906ed>\u001b[0m in \u001b[0;36m<cell line: 43>\u001b[0;34m()\u001b[0m\n\u001b[1;32m     41\u001b[0m \u001b[0;31m# The code below is for us to test your code. Do not modify it.\u001b[0m\u001b[0;34m\u001b[0m\u001b[0;34m\u001b[0m\u001b[0m\n\u001b[1;32m     42\u001b[0m \u001b[0;32massert\u001b[0m\u001b[0;34m(\u001b[0m\u001b[0mcounter\u001b[0m \u001b[0;34m>\u001b[0m \u001b[0;36m0\u001b[0m\u001b[0;34m)\u001b[0m\u001b[0;34m\u001b[0m\u001b[0;34m\u001b[0m\u001b[0m\n\u001b[0;32m---> 43\u001b[0;31m \u001b[0;32massert\u001b[0m\u001b[0;34m(\u001b[0m\u001b[0mposition\u001b[0m \u001b[0;34m<=\u001b[0m \u001b[0mleft_wall\u001b[0m \u001b[0;32mor\u001b[0m \u001b[0mposition\u001b[0m \u001b[0;34m>=\u001b[0m \u001b[0mright_wall\u001b[0m\u001b[0;34m)\u001b[0m\u001b[0;34m\u001b[0m\u001b[0;34m\u001b[0m\u001b[0m\n\u001b[0m",
            "\u001b[0;31mAssertionError\u001b[0m: "
          ]
        }
      ],
      "source": [
        "# Reset your position to the center of the room\n",
        "position = 50\n",
        "\n",
        "# Set your counter to see how many chances you have taken to reach the wall\n",
        "counter = 0\n",
        "left_wall = 0\n",
        "right_wall = 100\n",
        "# TODO: While you haven't reached the left wall or right wall:\n",
        "\n",
        "    # Get a random number of steps\n",
        "steps = random.randint(1, 10)\n",
        "    # Flip a coin\n",
        "coin1 = random.choice (['H', 'T'])\n",
        "    # Flip another coin\n",
        "coin2 = random.choice (['H', 'T'])\n",
        "\n",
        "    # Debug print steps and coin flips\n",
        "    # print(steps, coin1, coin2)\n",
        "print (f\"Steps: {steps}, Coin1: {coin1}, Coin2: {coin2}, Position before move: {position}\")\n",
        "    # If the first coin toss is the same as the second:\n",
        "if coin1 == coin2:\n",
        "        # Double the number of steps\n",
        "   steps *= 2\n",
        "    # If the first toss is heads:\n",
        "if coin1 == 'H':\n",
        "        # Move right, add steps to your position\n",
        "        position += steps\n",
        "else:\n",
        "    # Otherwise:\n",
        "        # Move left, subtract steps from your position\n",
        "        position -= steps\n",
        "\n",
        "    # Increment your counter for each iteration\n",
        "counter += 1\n",
        "\n",
        "print('You reached the wall after'  , counter, 'chances')\n",
        "print (f\"Position after move: {position}\")\n",
        "# The following statement does not need to be changed.\n",
        "print('You reached the wall after', counter, 'chances.')\n",
        "\n",
        "# The code below is for us to test your code. Do not modify it.\n",
        "assert(counter > 0)\n",
        "assert(position <= left_wall or position >= right_wall)"
      ]
    },
    {
      "cell_type": "markdown",
      "metadata": {
        "id": "dKL0LYd-E4JB"
      },
      "source": [
        "### (Optional) Reflections\n",
        "Add a text cell below to answer the following questions:\n",
        "1. What do you feel more confident about after completing this lab?\n",
        "2. What do you feel you can use more help with after completing this lab?\n",
        "3. Do you have any constructive suggestions on how we can help you or improve this lab?"
      ]
    },
    {
      "cell_type": "markdown",
      "metadata": {
        "id": "gB1aHDpyFYey"
      },
      "source": [
        "### Save your work to GitHub\n",
        "Please save this notebook to your lab repository."
      ]
    }
  ],
  "metadata": {
    "kernelspec": {
      "display_name": "Python 3.10.0 64-bit",
      "language": "python",
      "name": "python3"
    },
    "language_info": {
      "codemirror_mode": {
        "name": "ipython",
        "version": 3
      },
      "file_extension": ".py",
      "mimetype": "text/x-python",
      "name": "python",
      "nbconvert_exporter": "python",
      "pygments_lexer": "ipython3",
      "version": "3.10.0"
    },
    "vscode": {
      "interpreter": {
        "hash": "aee8b7b246df8f9039afb4144a1f6fd8d2ca17a180786b69acc140d282b71a49"
      }
    },
    "colab": {
      "provenance": [],
      "include_colab_link": true
    }
  },
  "nbformat": 4,
  "nbformat_minor": 0
}